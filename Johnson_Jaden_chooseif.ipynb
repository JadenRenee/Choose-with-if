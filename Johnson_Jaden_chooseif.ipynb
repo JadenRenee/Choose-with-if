{
 "cells": [
  {
   "cell_type": "code",
   "execution_count": 1,
   "id": "fbaf417c-7716-4724-b77d-be38e579e313",
   "metadata": {},
   "outputs": [
    {
     "name": "stdout",
     "output_type": "stream",
     "text": [
      "too low\n",
      "cherry\n"
     ]
    }
   ],
   "source": [
    "# Assigning numbers to variables\n",
    "secret = 7  # You can choose any number between 1 and 10\n",
    "guess = 5   # You can choose any number between 1 and 10\n",
    "\n",
    "# Conditional tests\n",
    "if guess < secret:\n",
    "    print('too low')\n",
    "elif guess > secret:\n",
    "    print('too high')\n",
    "else:\n",
    "    print('just right')\n",
    "    # Assigning True or False to variables\n",
    "small = True\n",
    "green = False\n",
    "\n",
    "# Conditional tests\n",
    "if small and green:\n",
    "    print('pea')\n",
    "elif small and not green:\n",
    "    print('cherry')\n",
    "elif not small and green:\n",
    "    print('watermelon')\n",
    "else:\n",
    "    print('pumpkin')\n",
    "\n",
    "\n"
   ]
  },
  {
   "cell_type": "code",
   "execution_count": null,
   "id": "030f433e-f499-4e27-91b6-e945a3248eae",
   "metadata": {},
   "outputs": [],
   "source": []
  }
 ],
 "metadata": {
  "kernelspec": {
   "display_name": "Python 3 (ipykernel)",
   "language": "python",
   "name": "python3"
  },
  "language_info": {
   "codemirror_mode": {
    "name": "ipython",
    "version": 3
   },
   "file_extension": ".py",
   "mimetype": "text/x-python",
   "name": "python",
   "nbconvert_exporter": "python",
   "pygments_lexer": "ipython3",
   "version": "3.12.7"
  }
 },
 "nbformat": 4,
 "nbformat_minor": 5
}
